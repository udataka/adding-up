{
  "nbformat": 4,
  "nbformat_minor": 0,
  "metadata": {
    "colab": {
      "name": "Pythonスタートブック[増補改訂版]_学習ノート.ipynb",
      "version": "0.3.2",
      "provenance": [],
      "collapsed_sections": [],
      "include_colab_link": true
    },
    "kernelspec": {
      "name": "python3",
      "display_name": "Python 3"
    }
  },
  "cells": [
    {
      "cell_type": "markdown",
      "metadata": {
        "id": "view-in-github",
        "colab_type": "text"
      },
      "source": [
        "<a href=\"https://colab.research.google.com/github/udataka/adding-up/blob/master/Python%E3%82%B9%E3%82%BF%E3%83%BC%E3%83%88%E3%83%96%E3%83%83%E3%82%AF%5B%E5%A2%97%E8%A3%9C%E6%94%B9%E8%A8%82%E7%89%88%5D_%E5%AD%A6%E7%BF%92%E3%83%8E%E3%83%BC%E3%83%88.ipynb\" target=\"_parent\"><img src=\"https://colab.research.google.com/assets/colab-badge.svg\" alt=\"Open In Colab\"/></a>"
      ]
    },
    {
      "metadata": {
        "id": "-rYlTEnYChbe",
        "colab_type": "code",
        "colab": {}
      },
      "cell_type": "code",
      "source": [
        "# データ型のすべて\n",
        "## datetimeもじゅーる"
      ],
      "execution_count": 0,
      "outputs": []
    },
    {
      "metadata": {
        "id": "TIGtixvWGXK-",
        "colab_type": "code",
        "colab": {
          "base_uri": "https://localhost:8080/",
          "height": 34
        },
        "outputId": "7731c37c-5d8e-4190-dddc-894d0882bfd7"
      },
      "cell_type": "code",
      "source": [
        "import datetime\n",
        "day = datetime.date(2030,4,14)\n",
        "print(day)"
      ],
      "execution_count": 6,
      "outputs": [
        {
          "output_type": "stream",
          "text": [
            "2030-04-14\n"
          ],
          "name": "stdout"
        }
      ]
    },
    {
      "metadata": {
        "id": "5tSxqg_wIpi8",
        "colab_type": "code",
        "colab": {
          "base_uri": "https://localhost:8080/",
          "height": 34
        },
        "outputId": "0b6e3c68-81bb-434e-bc2f-e156060203bc"
      },
      "cell_type": "code",
      "source": [
        "day.weekday()"
      ],
      "execution_count": 7,
      "outputs": [
        {
          "output_type": "execute_result",
          "data": {
            "text/plain": [
              "6"
            ]
          },
          "metadata": {
            "tags": []
          },
          "execution_count": 7
        }
      ]
    },
    {
      "metadata": {
        "id": "mY6m1rioIt0N",
        "colab_type": "code",
        "colab": {
          "base_uri": "https://localhost:8080/",
          "height": 34
        },
        "outputId": "a5e993f8-ed14-48d3-dfdb-61b3e596108b"
      },
      "cell_type": "code",
      "source": [
        "kyou = datetime.date.today()\n",
        "print(kyou)"
      ],
      "execution_count": 11,
      "outputs": [
        {
          "output_type": "stream",
          "text": [
            "2019-03-31\n"
          ],
          "name": "stdout"
        }
      ]
    },
    {
      "metadata": {
        "id": "B8L3HjtwJIwd",
        "colab_type": "code",
        "colab": {
          "base_uri": "https://localhost:8080/",
          "height": 34
        },
        "outputId": "48f903b1-c392-499c-8179-41fba27557e7"
      },
      "cell_type": "code",
      "source": [
        "print(day.today())"
      ],
      "execution_count": 12,
      "outputs": [
        {
          "output_type": "stream",
          "text": [
            "2019-03-31\n"
          ],
          "name": "stdout"
        }
      ]
    },
    {
      "metadata": {
        "id": "3q2w1qKMJnb1",
        "colab_type": "code",
        "colab": {
          "base_uri": "https://localhost:8080/",
          "height": 34
        },
        "outputId": "c96383f6-5745-43c0-c74a-c9b76223c719"
      },
      "cell_type": "code",
      "source": [
        "apollo_11 = datetime.datetime(1969,7,21,5,17,40)\n",
        "print(apollo_11)"
      ],
      "execution_count": 14,
      "outputs": [
        {
          "output_type": "stream",
          "text": [
            "1969-07-21 05:17:40\n"
          ],
          "name": "stdout"
        }
      ]
    },
    {
      "metadata": {
        "id": "Tbamgo8KKBbV",
        "colab_type": "code",
        "colab": {
          "base_uri": "https://localhost:8080/",
          "height": 34
        },
        "outputId": "d60694d7-05ba-40a3-821f-fb4d3666e36b"
      },
      "cell_type": "code",
      "source": [
        "ima = datetime.datetime.now()\n",
        "print(ima)"
      ],
      "execution_count": 15,
      "outputs": [
        {
          "output_type": "stream",
          "text": [
            "2019-03-31 23:49:39.513851\n"
          ],
          "name": "stdout"
        }
      ]
    },
    {
      "metadata": {
        "id": "3zJ_1c5-KP9F",
        "colab_type": "text"
      },
      "cell_type": "markdown",
      "source": [
        "## データ型とオブジェクト\n",
        "### 文字列や数字の作り方"
      ]
    },
    {
      "metadata": {
        "id": "CQI7Jj6RKiiW",
        "colab_type": "code",
        "colab": {}
      },
      "cell_type": "code",
      "source": [
        "address = 'Tokyo,Japan'\n",
        "int_num = 256\n",
        "flat_num = 3.14"
      ],
      "execution_count": 0,
      "outputs": []
    },
    {
      "metadata": {
        "id": "ZgPsraelMVjE",
        "colab_type": "text"
      },
      "cell_type": "markdown",
      "source": [
        "## 人生を計算してみる\n",
        "### dat型の計算\n"
      ]
    },
    {
      "metadata": {
        "id": "tVDYyEnUMrbs",
        "colab_type": "code",
        "colab": {
          "base_uri": "https://localhost:8080/",
          "height": 34
        },
        "outputId": "4df58336-3219-4509-a307-420589038ae5"
      },
      "cell_type": "code",
      "source": [
        "5-1"
      ],
      "execution_count": 17,
      "outputs": [
        {
          "output_type": "execute_result",
          "data": {
            "text/plain": [
              "4"
            ]
          },
          "metadata": {
            "tags": []
          },
          "execution_count": 17
        }
      ]
    },
    {
      "metadata": {
        "id": "1Z57w75eNTd9",
        "colab_type": "text"
      },
      "cell_type": "markdown",
      "source": [
        ""
      ]
    },
    {
      "metadata": {
        "id": "90o2hbMaNU28",
        "colab_type": "code",
        "colab": {}
      },
      "cell_type": "code",
      "source": [
        "import datetime\n",
        "date_a = datetime.date(2008,1,1)\n",
        "date_b = datetime.date(2009,1,1)"
      ],
      "execution_count": 0,
      "outputs": []
    },
    {
      "metadata": {
        "id": "O8pHzNgYNnQ2",
        "colab_type": "code",
        "colab": {
          "base_uri": "https://localhost:8080/",
          "height": 34
        },
        "outputId": "fd480e0e-eafb-4328-fb61-f8ba219a8510"
      },
      "cell_type": "code",
      "source": [
        "days_2008 = date_b - date_a\n",
        "print(days_2008)"
      ],
      "execution_count": 19,
      "outputs": [
        {
          "output_type": "stream",
          "text": [
            "366 days, 0:00:00\n"
          ],
          "name": "stdout"
        }
      ]
    },
    {
      "metadata": {
        "id": "CAZoLYzBN1O9",
        "colab_type": "code",
        "colab": {}
      },
      "cell_type": "code",
      "source": [
        ""
      ],
      "execution_count": 0,
      "outputs": []
    },
    {
      "metadata": {
        "id": "jwKCUnHbOC6k",
        "colab_type": "text"
      },
      "cell_type": "markdown",
      "source": [
        "### データ属性"
      ]
    },
    {
      "metadata": {
        "id": "oThHpOrEOIA2",
        "colab_type": "code",
        "colab": {
          "base_uri": "https://localhost:8080/",
          "height": 34
        },
        "outputId": "ef130952-8f83-4469-b887-38f4eda0a9b4"
      },
      "cell_type": "code",
      "source": [
        "days_2008.days"
      ],
      "execution_count": 20,
      "outputs": [
        {
          "output_type": "execute_result",
          "data": {
            "text/plain": [
              "366"
            ]
          },
          "metadata": {
            "tags": []
          },
          "execution_count": 20
        }
      ]
    },
    {
      "metadata": {
        "id": "_ud1UC_jQLR2",
        "colab_type": "text"
      },
      "cell_type": "markdown",
      "source": [
        "あるデータ型が持っている専用関数のことを「メソッド」と呼びましたが、このような、あるデータ型に属している専用変数のこと、データ属性（データアトリビュート）または、単に属性（アトリビュート）と呼びます。"
      ]
    },
    {
      "metadata": {
        "id": "S0vHrjffQnd8",
        "colab_type": "text"
      },
      "cell_type": "markdown",
      "source": [
        "## 何日生きたか計算するプログラム\n"
      ]
    },
    {
      "metadata": {
        "id": "X0pPajejQ9Yu",
        "colab_type": "text"
      },
      "cell_type": "markdown",
      "source": [
        "life_time.py"
      ]
    },
    {
      "metadata": {
        "id": "APPXn03pRBdl",
        "colab_type": "code",
        "colab": {
          "base_uri": "https://localhost:8080/",
          "height": 34
        },
        "outputId": "2e113ac2-0d07-4b02-b543-e42576aa20d6"
      },
      "cell_type": "code",
      "source": [
        "import datetime\n",
        "\n",
        "today = datetime.date.today()\n",
        "birthday = datetime.date(1968,10,28)\n",
        "life = today - birthday\n",
        "print(life.days)"
      ],
      "execution_count": 22,
      "outputs": [
        {
          "output_type": "stream",
          "text": [
            "18417\n"
          ],
          "name": "stdout"
        }
      ]
    },
    {
      "metadata": {
        "id": "rkNj-iPmSl4c",
        "colab_type": "code",
        "colab": {
          "base_uri": "https://localhost:8080/",
          "height": 34
        },
        "outputId": "3b8267f0-a676-45aa-f65d-97c8cc4f27b1"
      },
      "cell_type": "code",
      "source": [
        "## 練習問題 1\n",
        "\n",
        "print (datetime.date.today())"
      ],
      "execution_count": 27,
      "outputs": [
        {
          "output_type": "stream",
          "text": [
            "2019-04-01\n"
          ],
          "name": "stdout"
        }
      ]
    },
    {
      "metadata": {
        "id": "Fz6Gg3xYTBer",
        "colab_type": "code",
        "colab": {
          "base_uri": "https://localhost:8080/",
          "height": 34
        },
        "outputId": "029da4fe-3a23-4f3b-f417-a1345d3ba1b5"
      },
      "cell_type": "code",
      "source": [
        "## 練習問題　２\n",
        "\n",
        "today = datetime.date.today()\n",
        "print(today)"
      ],
      "execution_count": 28,
      "outputs": [
        {
          "output_type": "stream",
          "text": [
            "2019-04-01\n"
          ],
          "name": "stdout"
        }
      ]
    },
    {
      "metadata": {
        "id": "b3KTrvOjTTqH",
        "colab_type": "text"
      },
      "cell_type": "markdown",
      "source": [
        "# 第４章　データの入れ物\n",
        "\n",
        "###　Point ３　辞書型\n",
        "\n",
        "辞書型では、データの順序は関係ありません。\n",
        "\n",
        "それぞれのデータに印となる名前を透けて、後で分かるように保存しておくイメージです。\n",
        "\n",
        "この名前のことを「キー（key）」、保存sれているデータを「値（value）」と呼びます。\n",
        "\n",
        "保存されているデータにアクセスしたい場合は、キーを呼び出します。\n",
        "\n",
        "### Point ４　その他の入れ物\n",
        "\n",
        "リスト型と辞書型以外のデータの入れ物\n",
        "\n",
        "\n",
        "*   タプル(tuple)\n",
        "*   セット(set)\n",
        "\n",
        "タプルはリストに似ているが、一度作ったら内容を変更することができない。\n",
        "\n",
        "一方、セットはデータの漠然とした集まりで、同じ内容のデータを追加すると自動的に１つにまとめられます。　？？？\n",
        "\n",
        "\n",
        "\n"
      ]
    },
    {
      "metadata": {
        "id": "1AJWfJRhWTfu",
        "colab_type": "text"
      },
      "cell_type": "markdown",
      "source": [
        "##  リスト型\n",
        "###  STEP 1 　リスト型のデータの作成\n",
        "\n",
        "リストは、中に入れるデータに0から順番に番号が付く仕組みになっています。\n",
        "\n",
        "リストは「,」(カンマ)で区切ったデータをカギ括弧[]でくくると、作ることができます。\n"
      ]
    },
    {
      "metadata": {
        "id": "N_ZuLwzPXFop",
        "colab_type": "code",
        "colab": {
          "base_uri": "https://localhost:8080/",
          "height": 34
        },
        "outputId": "cfda9165-0259-469f-ae32-ae611d53031f"
      },
      "cell_type": "code",
      "source": [
        "list_int = [0,1,2,3]\n",
        "print(list_int)"
      ],
      "execution_count": 29,
      "outputs": [
        {
          "output_type": "stream",
          "text": [
            "[0, 1, 2, 3]\n"
          ],
          "name": "stdout"
        }
      ]
    },
    {
      "metadata": {
        "id": "693g7fdMXXZr",
        "colab_type": "code",
        "colab": {
          "base_uri": "https://localhost:8080/",
          "height": 34
        },
        "outputId": "58ae75a8-4eda-4e67-a736-539e63b08f5f"
      },
      "cell_type": "code",
      "source": [
        "list_mix = [2,1.732,'test']\n",
        "print(list_mix)"
      ],
      "execution_count": 30,
      "outputs": [
        {
          "output_type": "stream",
          "text": [
            "[2, 1.732, 'test']\n"
          ],
          "name": "stdout"
        }
      ]
    },
    {
      "metadata": {
        "id": "632xzVPhXoXt",
        "colab_type": "text"
      },
      "cell_type": "markdown",
      "source": [
        "###  STEP ２　添字を使って要素にアクセス\n",
        "\n",
        "リストではカギ括弧[]を使って嵌合を指定することで、その嵌合の場所に格納されたデータを取り出すことができる。\n",
        "\n",
        "添字になる番号は０から指定します。"
      ]
    },
    {
      "metadata": {
        "id": "zKeEHjLKYEFq",
        "colab_type": "code",
        "colab": {
          "base_uri": "https://localhost:8080/",
          "height": 34
        },
        "outputId": "439c4a06-0c45-4f55-d8bc-a026d952c6b4"
      },
      "cell_type": "code",
      "source": [
        "list_mix[0]"
      ],
      "execution_count": 31,
      "outputs": [
        {
          "output_type": "execute_result",
          "data": {
            "text/plain": [
              "2"
            ]
          },
          "metadata": {
            "tags": []
          },
          "execution_count": 31
        }
      ]
    },
    {
      "metadata": {
        "id": "GEPyzcSeYL1E",
        "colab_type": "text"
      },
      "cell_type": "markdown",
      "source": [
        "リストの長さ（項目数）は、組子に関数lenを使って確かめられます。"
      ]
    },
    {
      "metadata": {
        "id": "CEMSRAAPYXND",
        "colab_type": "code",
        "colab": {
          "base_uri": "https://localhost:8080/",
          "height": 34
        },
        "outputId": "01dd3ee5-d544-413f-b107-02c6a6751e9f"
      },
      "cell_type": "code",
      "source": [
        "len(list_int)"
      ],
      "execution_count": 32,
      "outputs": [
        {
          "output_type": "execute_result",
          "data": {
            "text/plain": [
              "4"
            ]
          },
          "metadata": {
            "tags": []
          },
          "execution_count": 32
        }
      ]
    },
    {
      "metadata": {
        "id": "9ZxyK1_RYdES",
        "colab_type": "code",
        "colab": {
          "base_uri": "https://localhost:8080/",
          "height": 34
        },
        "outputId": "1e84bcd2-03ce-49df-abf1-1433356e77be"
      },
      "cell_type": "code",
      "source": [
        "len(list_mix)"
      ],
      "execution_count": 33,
      "outputs": [
        {
          "output_type": "execute_result",
          "data": {
            "text/plain": [
              "3"
            ]
          },
          "metadata": {
            "tags": []
          },
          "execution_count": 33
        }
      ]
    },
    {
      "metadata": {
        "id": "bpRPeecVY0m6",
        "colab_type": "text"
      },
      "cell_type": "markdown",
      "source": [
        "list_intの長さは４、添字の範囲は０から３\n",
        "\n",
        "添字に４を指定して５つ目の要素を取り出そうとすると、エラーが発生する。"
      ]
    },
    {
      "metadata": {
        "id": "qLFRNXolZJC6",
        "colab_type": "code",
        "colab": {
          "base_uri": "https://localhost:8080/",
          "height": 171
        },
        "outputId": "ab699338-d53d-4232-8a5e-8b9180b94ea9"
      },
      "cell_type": "code",
      "source": [
        "list_int[4]"
      ],
      "execution_count": 34,
      "outputs": [
        {
          "output_type": "error",
          "ename": "IndexError",
          "evalue": "ignored",
          "traceback": [
            "\u001b[0;31m---------------------------------------------------------------------------\u001b[0m",
            "\u001b[0;31mIndexError\u001b[0m                                Traceback (most recent call last)",
            "\u001b[0;32m<ipython-input-34-95da780323a6>\u001b[0m in \u001b[0;36m<module>\u001b[0;34m()\u001b[0m\n\u001b[0;32m----> 1\u001b[0;31m \u001b[0mlist_int\u001b[0m\u001b[0;34m[\u001b[0m\u001b[0;36m4\u001b[0m\u001b[0;34m]\u001b[0m\u001b[0;34m\u001b[0m\u001b[0;34m\u001b[0m\u001b[0m\n\u001b[0m",
            "\u001b[0;31mIndexError\u001b[0m: list index out of range"
          ]
        }
      ]
    },
    {
      "metadata": {
        "id": "gsBqBmAwZYuz",
        "colab_type": "text"
      },
      "cell_type": "markdown",
      "source": [
        "list_intのん側は４なので、最後の要素を取り出したいときは、添字に３を指定すれば良いことになる。しかし、あらかじめ長さを調べておくのは面倒。\n",
        "\n",
        "リストの長さを知らなくても次のようにすればサイドの要素を取り出すことができる。"
      ]
    },
    {
      "metadata": {
        "id": "wMWGI6pLbG0s",
        "colab_type": "code",
        "colab": {
          "base_uri": "https://localhost:8080/",
          "height": 34
        },
        "outputId": "fe69a834-f687-4141-cda1-f1613ce87539"
      },
      "cell_type": "code",
      "source": [
        "list_int[-1]"
      ],
      "execution_count": 35,
      "outputs": [
        {
          "output_type": "execute_result",
          "data": {
            "text/plain": [
              "3"
            ]
          },
          "metadata": {
            "tags": []
          },
          "execution_count": 35
        }
      ]
    },
    {
      "metadata": {
        "id": "w7TA5JNObKXp",
        "colab_type": "text"
      },
      "cell_type": "markdown",
      "source": [
        "-1は最後の要素に対する特殊なを添え字です。\n",
        "\n",
        "-２は最後から２番めです。"
      ]
    },
    {
      "metadata": {
        "id": "XjiU2vljbqnC",
        "colab_type": "code",
        "colab": {
          "base_uri": "https://localhost:8080/",
          "height": 34
        },
        "outputId": "4ddb4dd5-b046-47aa-f18b-104dbd0ac312"
      },
      "cell_type": "code",
      "source": [
        "list_int[-2]"
      ],
      "execution_count": 36,
      "outputs": [
        {
          "output_type": "execute_result",
          "data": {
            "text/plain": [
              "2"
            ]
          },
          "metadata": {
            "tags": []
          },
          "execution_count": 36
        }
      ]
    },
    {
      "metadata": {
        "id": "klaWTaIeby7y",
        "colab_type": "text"
      },
      "cell_type": "markdown",
      "source": [
        "###  要素の変更と追加\n",
        "リストでは、格納しているデータの要素を個別に変更することができる。\n"
      ]
    },
    {
      "metadata": {
        "id": "IZ_wlyplcDws",
        "colab_type": "code",
        "colab": {
          "base_uri": "https://localhost:8080/",
          "height": 34
        },
        "outputId": "7cb93e0e-f263-4704-b5ce-e81816d675fa"
      },
      "cell_type": "code",
      "source": [
        "list_int[0] = -1\n",
        "list_int"
      ],
      "execution_count": 37,
      "outputs": [
        {
          "output_type": "execute_result",
          "data": {
            "text/plain": [
              "[-1, 1, 2, 3]"
            ]
          },
          "metadata": {
            "tags": []
          },
          "execution_count": 37
        }
      ]
    },
    {
      "metadata": {
        "id": "vZv0l5sQcNmq",
        "colab_type": "text"
      },
      "cell_type": "markdown",
      "source": [
        "これは、list_intの０番目の要素を、０から－１に変更している例\n",
        "\n",
        "もう一度０を代入すれば、もとに戻ります。"
      ]
    },
    {
      "metadata": {
        "id": "aeXmn5cuch3U",
        "colab_type": "code",
        "colab": {
          "base_uri": "https://localhost:8080/",
          "height": 34
        },
        "outputId": "f0690923-3564-4d32-aba0-03e7f1b4b0b7"
      },
      "cell_type": "code",
      "source": [
        "list_int[0] = 0\n",
        "list_int"
      ],
      "execution_count": 38,
      "outputs": [
        {
          "output_type": "execute_result",
          "data": {
            "text/plain": [
              "[0, 1, 2, 3]"
            ]
          },
          "metadata": {
            "tags": []
          },
          "execution_count": 38
        }
      ]
    },
    {
      "metadata": {
        "id": "EYwQ8ydXcs_l",
        "colab_type": "text"
      },
      "cell_type": "markdown",
      "source": [
        "リストも１つのデータ型なので、色々なメソットを持っている。\n",
        "\n",
        "例えば、リストに新しいデータ要素を追加したいときは、appendというメソッドが使えます。"
      ]
    },
    {
      "metadata": {
        "id": "1t65rhYhdAti",
        "colab_type": "code",
        "colab": {
          "base_uri": "https://localhost:8080/",
          "height": 34
        },
        "outputId": "bccef4fa-5907-4795-e9e7-708d6ede0a84"
      },
      "cell_type": "code",
      "source": [
        "list_int"
      ],
      "execution_count": 40,
      "outputs": [
        {
          "output_type": "execute_result",
          "data": {
            "text/plain": [
              "[0, 1, 2, 3]"
            ]
          },
          "metadata": {
            "tags": []
          },
          "execution_count": 40
        }
      ]
    },
    {
      "metadata": {
        "id": "PuilbdvndGMa",
        "colab_type": "code",
        "colab": {
          "base_uri": "https://localhost:8080/",
          "height": 34
        },
        "outputId": "03adef8d-b25e-42c5-d150-6225171d79bd"
      },
      "cell_type": "code",
      "source": [
        "list_int.append(4)\n",
        "list_int"
      ],
      "execution_count": 41,
      "outputs": [
        {
          "output_type": "execute_result",
          "data": {
            "text/plain": [
              "[0, 1, 2, 3, 4]"
            ]
          },
          "metadata": {
            "tags": []
          },
          "execution_count": 41
        }
      ]
    },
    {
      "metadata": {
        "id": "KWByEQ-wdN76",
        "colab_type": "text"
      },
      "cell_type": "markdown",
      "source": [
        "appendで追加された要素は、リストの醍醐に付け加えられます。\n",
        "\n",
        "####  注意\n",
        "  appendがリストの内容を変更していることに注意しましょう。\n",
        "  \n",
        "  このメソッドや次のinsertは「中身を変えて結果を返さないメソッドです」\n"
      ]
    },
    {
      "metadata": {
        "id": "V-7jer7LeFRS",
        "colab_type": "text"
      },
      "cell_type": "markdown",
      "source": [
        "###  STEP ３　要素の変更と追加"
      ]
    },
    {
      "metadata": {
        "id": "ePfYY2Q9eSLS",
        "colab_type": "code",
        "colab": {
          "base_uri": "https://localhost:8080/",
          "height": 34
        },
        "outputId": "c179cf87-846e-43ae-ac59-5a3cd2ff8528"
      },
      "cell_type": "code",
      "source": [
        "list_int[0] = -1\n",
        "list_int"
      ],
      "execution_count": 44,
      "outputs": [
        {
          "output_type": "execute_result",
          "data": {
            "text/plain": [
              "[-1, 2, 3, 4]"
            ]
          },
          "metadata": {
            "tags": []
          },
          "execution_count": 44
        }
      ]
    },
    {
      "metadata": {
        "id": "Q3zRRWSgeeK7",
        "colab_type": "code",
        "colab": {
          "base_uri": "https://localhost:8080/",
          "height": 34
        },
        "outputId": "cef769c9-bf68-4618-c279-359f27131b5d"
      },
      "cell_type": "code",
      "source": [
        "list_int[0] = 0\n",
        "list_int"
      ],
      "execution_count": 45,
      "outputs": [
        {
          "output_type": "execute_result",
          "data": {
            "text/plain": [
              "[0, 2, 3, 4]"
            ]
          },
          "metadata": {
            "tags": []
          },
          "execution_count": 45
        }
      ]
    },
    {
      "metadata": {
        "id": "dgbWGjTOesK7",
        "colab_type": "code",
        "colab": {
          "base_uri": "https://localhost:8080/",
          "height": 34
        },
        "outputId": "06c0bf6a-13d7-4d35-dac8-03b7b60d98dc"
      },
      "cell_type": "code",
      "source": [
        "list_int[1] = 1\n",
        "list_int"
      ],
      "execution_count": 47,
      "outputs": [
        {
          "output_type": "execute_result",
          "data": {
            "text/plain": [
              "[0, 1, 3, 4]"
            ]
          },
          "metadata": {
            "tags": []
          },
          "execution_count": 47
        }
      ]
    },
    {
      "metadata": {
        "id": "r6WGJzpSfEjS",
        "colab_type": "text"
      },
      "cell_type": "markdown",
      "source": [
        "挿入する場所を指定して要素を追加する\n",
        "\n",
        "insertメソッド　第一引数は追加する場所、第二引数は追加する要素"
      ]
    },
    {
      "metadata": {
        "id": "Wp-Sv8eUgHOe",
        "colab_type": "code",
        "colab": {
          "base_uri": "https://localhost:8080/",
          "height": 34
        },
        "outputId": "79fae843-b638-42ce-b865-237f37c113bb"
      },
      "cell_type": "code",
      "source": [
        "list_int.insert(2,2)\n",
        "list_int"
      ],
      "execution_count": 49,
      "outputs": [
        {
          "output_type": "execute_result",
          "data": {
            "text/plain": [
              "[0, 1, 2, 3, 4]"
            ]
          },
          "metadata": {
            "tags": []
          },
          "execution_count": 49
        }
      ]
    },
    {
      "metadata": {
        "id": "-0E8vUoAgkYw",
        "colab_type": "code",
        "colab": {
          "base_uri": "https://localhost:8080/",
          "height": 34
        },
        "outputId": "e02d011b-365e-4aca-828b-f9a0e99aa948"
      },
      "cell_type": "code",
      "source": [
        "list_int.insert(1,5)\n",
        "list_int"
      ],
      "execution_count": 50,
      "outputs": [
        {
          "output_type": "execute_result",
          "data": {
            "text/plain": [
              "[0, 5, 1, 2, 3, 4]"
            ]
          },
          "metadata": {
            "tags": []
          },
          "execution_count": 50
        }
      ]
    },
    {
      "metadata": {
        "id": "3J_w5ibodPEb",
        "colab_type": "text"
      },
      "cell_type": "markdown",
      "source": [
        "###  STEP 4 要素の削除\n",
        "\n",
        "消したい要素を添え字で指定する方法と、直接指定する方法がある。\n",
        "\n",
        "添字をスカった要素の削除にはpopメソッドを使う。popメソッドの引数に、消したい要素が入っている場所の添字を指定する。\n"
      ]
    },
    {
      "metadata": {
        "id": "UzmljjzVe3QV",
        "colab_type": "code",
        "colab": {
          "base_uri": "https://localhost:8080/",
          "height": 34
        },
        "outputId": "a342a16a-b69e-467b-88fb-54df91b4e93d"
      },
      "cell_type": "code",
      "source": [
        "list_int.pop(1)"
      ],
      "execution_count": 51,
      "outputs": [
        {
          "output_type": "execute_result",
          "data": {
            "text/plain": [
              "5"
            ]
          },
          "metadata": {
            "tags": []
          },
          "execution_count": 51
        }
      ]
    },
    {
      "metadata": {
        "id": "4KWah8qag6Eu",
        "colab_type": "text"
      },
      "cell_type": "markdown",
      "source": [
        "popを使うと、削除した用をがメソッドの戻り値として返ってくる。\n",
        "\n"
      ]
    },
    {
      "metadata": {
        "id": "ekfvto8id18n",
        "colab_type": "code",
        "colab": {
          "base_uri": "https://localhost:8080/",
          "height": 34
        },
        "outputId": "92b753e5-df5b-4b07-c00c-2aaac02eb6b2"
      },
      "cell_type": "code",
      "source": [
        "list_int"
      ],
      "execution_count": 52,
      "outputs": [
        {
          "output_type": "execute_result",
          "data": {
            "text/plain": [
              "[0, 1, 2, 3, 4]"
            ]
          },
          "metadata": {
            "tags": []
          },
          "execution_count": 52
        }
      ]
    },
    {
      "metadata": {
        "id": "wVu7D3D9g2l7",
        "colab_type": "text"
      },
      "cell_type": "markdown",
      "source": [
        "一方、要素を直接指定して削除する場合は、removeメソッドを使う。\n",
        "\n",
        "メソッドの引数に削除したい要素を指定します。"
      ]
    },
    {
      "metadata": {
        "id": "5EcCW6_xhe46",
        "colab_type": "code",
        "colab": {
          "base_uri": "https://localhost:8080/",
          "height": 34
        },
        "outputId": "dfc5ea4b-9036-439a-c85a-271278252854"
      },
      "cell_type": "code",
      "source": [
        "list_mix\n"
      ],
      "execution_count": 53,
      "outputs": [
        {
          "output_type": "execute_result",
          "data": {
            "text/plain": [
              "[2, 1.732, 'test']"
            ]
          },
          "metadata": {
            "tags": []
          },
          "execution_count": 53
        }
      ]
    },
    {
      "metadata": {
        "id": "LE_zEPZqlMHq",
        "colab_type": "code",
        "colab": {}
      },
      "cell_type": "code",
      "source": [
        ""
      ],
      "execution_count": 0,
      "outputs": []
    },
    {
      "metadata": {
        "id": "4ZdDV1q7hj2p",
        "colab_type": "code",
        "colab": {
          "base_uri": "https://localhost:8080/",
          "height": 34
        },
        "outputId": "33118194-df33-4d25-cf50-a10365130f89"
      },
      "cell_type": "code",
      "source": [
        "list_mix.remove('test')\n",
        "list_mix"
      ],
      "execution_count": 54,
      "outputs": [
        {
          "output_type": "execute_result",
          "data": {
            "text/plain": [
              "[2, 1.732]"
            ]
          },
          "metadata": {
            "tags": []
          },
          "execution_count": 54
        }
      ]
    },
    {
      "metadata": {
        "id": "OndxTT3ahsfK",
        "colab_type": "text"
      },
      "cell_type": "markdown",
      "source": [
        "単純に要素が削除されるだけなので、popメソッドとは違って値は戻って来ません。"
      ]
    },
    {
      "metadata": {
        "id": "SMxESdjEjMmq",
        "colab_type": "text"
      },
      "cell_type": "markdown",
      "source": [
        "###  STEP 5  リストの連結と拡張\n",
        "\n",
        "複数のリストを + でつなげると、それらが連結されて新しいリストが作られます。"
      ]
    },
    {
      "metadata": {
        "id": "FMtDhEvOjZwj",
        "colab_type": "code",
        "colab": {
          "base_uri": "https://localhost:8080/",
          "height": 34
        },
        "outputId": "45e2b7cd-1621-482d-ddc2-1b96b50cb4d9"
      },
      "cell_type": "code",
      "source": [
        "list_int + list_mix"
      ],
      "execution_count": 55,
      "outputs": [
        {
          "output_type": "execute_result",
          "data": {
            "text/plain": [
              "[0, 1, 2, 3, 4, 2, 1.732]"
            ]
          },
          "metadata": {
            "tags": []
          },
          "execution_count": 55
        }
      ]
    },
    {
      "metadata": {
        "id": "BiDbCKJaj479",
        "colab_type": "text"
      },
      "cell_type": "markdown",
      "source": [
        "このとき、元になった list_int と list_mix はどちらも変更されません。\n",
        "\n",
        "また、extend というメソッドを使って、list_int に list_mix の要素をすべて追加することも可能です。"
      ]
    },
    {
      "metadata": {
        "id": "zSRg_iRykP8U",
        "colab_type": "code",
        "colab": {
          "base_uri": "https://localhost:8080/",
          "height": 34
        },
        "outputId": "bb2f09f7-6911-4dba-dd45-b37cd126d2b8"
      },
      "cell_type": "code",
      "source": [
        "list_int.extend(list_mix)\n",
        "list_int"
      ],
      "execution_count": 56,
      "outputs": [
        {
          "output_type": "execute_result",
          "data": {
            "text/plain": [
              "[0, 1, 2, 3, 4, 2, 1.732]"
            ]
          },
          "metadata": {
            "tags": []
          },
          "execution_count": 56
        }
      ]
    },
    {
      "metadata": {
        "id": "swngaTAlkqRC",
        "colab_type": "text"
      },
      "cell_type": "markdown",
      "source": [
        "#### ポイント　\n",
        "リストは+で足し算できる。リストの拡張はextendで行う。"
      ]
    },
    {
      "metadata": {
        "id": "27z8XJGgk-WZ",
        "colab_type": "text"
      },
      "cell_type": "markdown",
      "source": [
        "### STEP 6　少し高度なリストの技\n",
        "\n",
        "スライスを使うとリストの一部の用をだけを切り出すことができる。\n"
      ]
    },
    {
      "metadata": {
        "id": "T08wqgsalNOx",
        "colab_type": "code",
        "colab": {
          "base_uri": "https://localhost:8080/",
          "height": 34
        },
        "outputId": "06a1c019-893b-47f8-96d7-c5ccb8180228"
      },
      "cell_type": "code",
      "source": [
        "list_f = [0,1,1,2,3,5,8,13,21,34]\n",
        "list_f"
      ],
      "execution_count": 57,
      "outputs": [
        {
          "output_type": "execute_result",
          "data": {
            "text/plain": [
              "[0, 1, 1, 2, 3, 5, 8, 13, 21, 34]"
            ]
          },
          "metadata": {
            "tags": []
          },
          "execution_count": 57
        }
      ]
    },
    {
      "metadata": {
        "id": "-6r0ta1cln6K",
        "colab_type": "code",
        "colab": {
          "base_uri": "https://localhost:8080/",
          "height": 34
        },
        "outputId": "1cc87d1d-747e-451c-d2fa-59f5ddf32343"
      },
      "cell_type": "code",
      "source": [
        "list_f[0:3]"
      ],
      "execution_count": 58,
      "outputs": [
        {
          "output_type": "execute_result",
          "data": {
            "text/plain": [
              "[0, 1, 1]"
            ]
          },
          "metadata": {
            "tags": []
          },
          "execution_count": 58
        }
      ]
    },
    {
      "metadata": {
        "id": "leUIn1Dzl7_c",
        "colab_type": "text"
      },
      "cell_type": "markdown",
      "source": [
        "#### スライスの機能\n",
        "\n",
        "添字の「0:3」は、「0番目から始まって、3番目の一つ手前までの要素を切り出す」という意味。つまり、0番目から２番目、までの３つです。\n",
        "\n",
        "「:」の左側は含んで、右側は含まない。\n",
        "  \n",
        "  ２番目から４番目までの３つの要素を切り出すときは、以下のように指定します。"
      ]
    },
    {
      "metadata": {
        "id": "7S4ZESpvnI0r",
        "colab_type": "code",
        "colab": {
          "base_uri": "https://localhost:8080/",
          "height": 34
        },
        "outputId": "3a0a243a-8700-403f-e5c9-cd8b04975cff"
      },
      "cell_type": "code",
      "source": [
        "list_f[2:5]"
      ],
      "execution_count": 59,
      "outputs": [
        {
          "output_type": "execute_result",
          "data": {
            "text/plain": [
              "[1, 2, 3]"
            ]
          },
          "metadata": {
            "tags": []
          },
          "execution_count": 59
        }
      ]
    },
    {
      "metadata": {
        "id": "VT8dWDkMnp87",
        "colab_type": "text"
      },
      "cell_type": "markdown",
      "source": [
        "「指定の場所から最後まで」や、「最初の要素から指定の場所まで」といった事もできる。"
      ]
    },
    {
      "metadata": {
        "id": "yyYdL6uhn1im",
        "colab_type": "code",
        "colab": {
          "base_uri": "https://localhost:8080/",
          "height": 34
        },
        "outputId": "3579d307-a761-4cbd-9e10-ebe0c804ad49"
      },
      "cell_type": "code",
      "source": [
        "list_f[2:]"
      ],
      "execution_count": 60,
      "outputs": [
        {
          "output_type": "execute_result",
          "data": {
            "text/plain": [
              "[1, 2, 3, 5, 8, 13, 21, 34]"
            ]
          },
          "metadata": {
            "tags": []
          },
          "execution_count": 60
        }
      ]
    },
    {
      "metadata": {
        "id": "l96yo36_n6Dq",
        "colab_type": "code",
        "colab": {
          "base_uri": "https://localhost:8080/",
          "height": 34
        },
        "outputId": "15f854cb-25f8-4457-c74f-c10d63a8ab99"
      },
      "cell_type": "code",
      "source": [
        "list_f[:4]"
      ],
      "execution_count": 61,
      "outputs": [
        {
          "output_type": "execute_result",
          "data": {
            "text/plain": [
              "[0, 1, 1, 2]"
            ]
          },
          "metadata": {
            "tags": []
          },
          "execution_count": 61
        }
      ]
    },
    {
      "metadata": {
        "id": "-3XvgoenoLTp",
        "colab_type": "text"
      },
      "cell_type": "markdown",
      "source": [
        "#### ポイント　スライを使うとリストの一部を切り出せる"
      ]
    },
    {
      "metadata": {
        "id": "G1DNpBvDoTf6",
        "colab_type": "text"
      },
      "cell_type": "markdown",
      "source": [
        ""
      ]
    }
  ]
}