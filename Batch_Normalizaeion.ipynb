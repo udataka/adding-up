{
  "nbformat": 4,
  "nbformat_minor": 0,
  "metadata": {
    "colab": {
      "name": "Batch Normalizaeion.ipynb",
      "version": "0.3.2",
      "provenance": [],
      "include_colab_link": true
    },
    "kernelspec": {
      "name": "python3",
      "display_name": "Python 3"
    },
    "accelerator": "GPU"
  },
  "cells": [
    {
      "cell_type": "markdown",
      "metadata": {
        "id": "view-in-github",
        "colab_type": "text"
      },
      "source": [
        "<a href=\"https://colab.research.google.com/github/udataka/adding-up/blob/master/Batch_Normalizaeion.ipynb\" target=\"_parent\"><img src=\"https://colab.research.google.com/assets/colab-badge.svg\" alt=\"Open In Colab\"/></a>"
      ]
    },
    {
      "metadata": {
        "id": "VhVQvGnr_R_N",
        "colab_type": "code",
        "colab": {
          "base_uri": "https://localhost:8080/",
          "height": 102
        },
        "outputId": "5146b39d-328d-4bd7-c6d9-87da4d4ba867"
      },
      "cell_type": "code",
      "source": [
        "#pip install tflearn\n",
        "#pip install tenserflow\n",
        "\n",
        "from __future__ import division, print_function, absolute_import\n",
        "\n",
        "import tflearn\n",
        "from tflearn.data_utils import shuffle, to_categorical\n",
        "from tflearn.layers.core import input_data, dropout, fully_connected\n",
        "from tflearn.layers.conv import conv_2d, max_pool_2d\n",
        "from tflearn.layers.estimator import regression\n",
        "from tflearn.data_preprocessing import ImagePreprocessing\n",
        "from tflearn.data_augmentation import ImageAugmentation\n",
        "\n",
        "from tflearn.datasets import cifar10\n",
        "(X, Y), (X_test, Y_test) = cifar10.load_data()\n",
        "X, Y = shuffle(X, Y)\n",
        "Y = to_categorical(Y, 10)\n",
        "Y_test = to_categorical(Y_test, 10)\n",
        "\n",
        "img_prep = ImagePreprocessing()\n",
        "img_prep.add_featurewise_zero_center()\n",
        "img_prep.add_featurewise_stdnorm()\n",
        "\n",
        "img_aug = ImageAugmentation()\n",
        "img_aug.add_random_flip_leftright()\n",
        "img_aug.add_random_rotation(max_angle=25.)\n",
        "\n",
        "network = input_data(shape=[None, 32, 32, 3],\n",
        "                     data_preprocessing=img_prep,\n",
        "                     data_augmentation=img_aug)\n",
        "network = conv_2d(network, 32, 3, activation='tanh')\n",
        "network = max_pool_2d(network, 2)\n",
        "network = conv_2d(network, 64, 3, activation='tanh')\n",
        "network = conv_2d(network, 64, 3, activation='tanh')\n",
        "network = max_pool_2d(network, 2)\n",
        "network = fully_connected(network, 512, activation='tanh')\n",
        "network = fully_connected(network, 10, activation='softmax')\n",
        "network = regression(network, optimizer='sgd',\n",
        "                     loss='categorical_crossentropy',\n",
        "                     learning_rate=0.001)\n",
        "\n",
        "model = tflearn.DNN(network, tensorboard_verbose=0)\n",
        "model.fit(X, Y, n_epoch=50, shuffle=True, validation_set=(X_test, Y_test),\n",
        "          show_metric=True, batch_size=96, run_id='Normal')"
      ],
      "execution_count": 1,
      "outputs": [
        {
          "output_type": "stream",
          "text": [
            "Training Step: 26049  | total loss: \u001b[1m\u001b[32m1.15666\u001b[0m\u001b[0m | time: 21.850s\n",
            "| SGD | epoch: 050 | loss: 1.15666 - acc: 0.5952 -- iter: 49920/50000\n",
            "Training Step: 26050  | total loss: \u001b[1m\u001b[32m1.15427\u001b[0m\u001b[0m | time: 23.457s\n",
            "| SGD | epoch: 050 | loss: 1.15427 - acc: 0.5940 | val_loss: 1.15210 - val_acc: 0.5922 -- iter: 50000/50000\n",
            "--\n"
          ],
          "name": "stdout"
        }
      ]
    },
    {
      "metadata": {
        "id": "j3_l29g3BfDm",
        "colab_type": "code",
        "colab": {}
      },
      "cell_type": "code",
      "source": [
        ""
      ],
      "execution_count": 0,
      "outputs": []
    }
  ]
}